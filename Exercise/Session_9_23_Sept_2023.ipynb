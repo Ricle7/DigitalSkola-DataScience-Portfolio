{
  "nbformat": 4,
  "nbformat_minor": 0,
  "metadata": {
    "colab": {
      "provenance": []
    },
    "kernelspec": {
      "name": "python3",
      "display_name": "Python 3"
    },
    "language_info": {
      "name": "python"
    }
  },
  "cells": [
    {
      "cell_type": "code",
      "execution_count": null,
      "metadata": {
        "colab": {
          "base_uri": "https://localhost:8080/"
        },
        "id": "tKVhP8vqqs55",
        "outputId": "c9fa49fb-4c0f-4746-f86b-fd345e7440ca"
      },
      "outputs": [
        {
          "output_type": "stream",
          "name": "stdout",
          "text": [
            "5\n"
          ]
        }
      ],
      "source": [
        "x = 5\n",
        "print(x)"
      ]
    },
    {
      "cell_type": "code",
      "source": [
        "# mendefinisikan fungsi yang menampilkan angka 5 di layar\n",
        "def tampilkan_5():\n",
        "  x = 5\n",
        "  print(x)"
      ],
      "metadata": {
        "id": "oF9oG3lUrSI1"
      },
      "execution_count": null,
      "outputs": []
    },
    {
      "cell_type": "code",
      "source": [
        "# pemanggilan fungsi tampilkan_5()\n",
        "tampilkan_5()"
      ],
      "metadata": {
        "colab": {
          "base_uri": "https://localhost:8080/"
        },
        "id": "F8iX-v1VsQuO",
        "outputId": "48c5738c-99b1-4b29-83e7-63a9da2e84ec"
      },
      "execution_count": null,
      "outputs": [
        {
          "output_type": "stream",
          "name": "stdout",
          "text": [
            "5\n"
          ]
        }
      ]
    },
    {
      "cell_type": "code",
      "source": [
        "def fungsi_1():\n",
        "  n = 10"
      ],
      "metadata": {
        "id": "pS6SQvsatPZc"
      },
      "execution_count": null,
      "outputs": []
    },
    {
      "cell_type": "code",
      "source": [
        "print(n) # variabel n tidak dikenal karena n memiliki ruang lingkup lokal (hanya di dalam fungsi fungsi_1() saja)"
      ],
      "metadata": {
        "colab": {
          "base_uri": "https://localhost:8080/",
          "height": 176
        },
        "id": "MKdBuQRFtWMd",
        "outputId": "f6ae4d95-9c36-41a1-a93e-824a7f522126"
      },
      "execution_count": null,
      "outputs": [
        {
          "output_type": "error",
          "ename": "NameError",
          "evalue": "ignored",
          "traceback": [
            "\u001b[0;31m---------------------------------------------------------------------------\u001b[0m",
            "\u001b[0;31mNameError\u001b[0m                                 Traceback (most recent call last)",
            "\u001b[0;32m<ipython-input-8-349653be3a92>\u001b[0m in \u001b[0;36m<cell line: 1>\u001b[0;34m()\u001b[0m\n\u001b[0;32m----> 1\u001b[0;31m \u001b[0mprint\u001b[0m\u001b[0;34m(\u001b[0m\u001b[0mn\u001b[0m\u001b[0;34m)\u001b[0m\u001b[0;34m\u001b[0m\u001b[0;34m\u001b[0m\u001b[0m\n\u001b[0m",
            "\u001b[0;31mNameError\u001b[0m: name 'n' is not defined"
          ]
        }
      ]
    },
    {
      "cell_type": "code",
      "source": [
        "a = 10"
      ],
      "metadata": {
        "id": "-TDpNOfNtpaq"
      },
      "execution_count": null,
      "outputs": []
    },
    {
      "cell_type": "code",
      "source": [
        "def fungsi_2():\n",
        "  print(a) # a bisa diakses karena memiliki lingkup global"
      ],
      "metadata": {
        "id": "ZkjsRcwFtuCJ"
      },
      "execution_count": null,
      "outputs": []
    },
    {
      "cell_type": "code",
      "source": [
        "fungsi_2()"
      ],
      "metadata": {
        "colab": {
          "base_uri": "https://localhost:8080/"
        },
        "id": "scuo8u_et3Pb",
        "outputId": "2a38735e-a696-4b7b-b987-c338802677b2"
      },
      "execution_count": null,
      "outputs": [
        {
          "output_type": "stream",
          "name": "stdout",
          "text": [
            "10\n"
          ]
        }
      ]
    },
    {
      "cell_type": "code",
      "source": [
        "def fungsi_3(nama): # variabel nama sbg input fungsi_3 disebut --> parameter\n",
        "  print(\"nama saya: \", nama)"
      ],
      "metadata": {
        "id": "JlsAGDlnvIpJ"
      },
      "execution_count": null,
      "outputs": []
    },
    {
      "cell_type": "code",
      "source": [
        "fungsi_3(\"ani\", \"budi\")"
      ],
      "metadata": {
        "colab": {
          "base_uri": "https://localhost:8080/",
          "height": 176
        },
        "id": "-JGJ-l6cwz9J",
        "outputId": "14027f3e-1e50-4fe9-e996-8ab56a3c985d"
      },
      "execution_count": null,
      "outputs": [
        {
          "output_type": "error",
          "ename": "TypeError",
          "evalue": "ignored",
          "traceback": [
            "\u001b[0;31m---------------------------------------------------------------------------\u001b[0m",
            "\u001b[0;31mTypeError\u001b[0m                                 Traceback (most recent call last)",
            "\u001b[0;32m<ipython-input-17-a9970451e404>\u001b[0m in \u001b[0;36m<cell line: 1>\u001b[0;34m()\u001b[0m\n\u001b[0;32m----> 1\u001b[0;31m \u001b[0mfungsi_3\u001b[0m\u001b[0;34m(\u001b[0m\u001b[0;34m\"ani\"\u001b[0m\u001b[0;34m,\u001b[0m \u001b[0;34m\"budi\"\u001b[0m\u001b[0;34m)\u001b[0m\u001b[0;34m\u001b[0m\u001b[0;34m\u001b[0m\u001b[0m\n\u001b[0m",
            "\u001b[0;31mTypeError\u001b[0m: fungsi_3() takes 1 positional argument but 2 were given"
          ]
        }
      ]
    },
    {
      "cell_type": "code",
      "source": [
        "fungsi_3(\"budi\") # value \"ani\" sebagai input ketika pemanggilan fungsi_3 disebut --> argument"
      ],
      "metadata": {
        "colab": {
          "base_uri": "https://localhost:8080/"
        },
        "id": "z8uvzJVBvkd6",
        "outputId": "e3086e3b-c08c-4818-dc66-c0667b684378"
      },
      "execution_count": null,
      "outputs": [
        {
          "output_type": "stream",
          "name": "stdout",
          "text": [
            "nama saya:  budi\n"
          ]
        }
      ]
    },
    {
      "cell_type": "code",
      "source": [
        "def fungsi_4(x, y):\n",
        "  print(x + y)"
      ],
      "metadata": {
        "id": "THRhi7x9wWW8"
      },
      "execution_count": null,
      "outputs": []
    },
    {
      "cell_type": "code",
      "source": [
        "fungsi_4(3, 5)"
      ],
      "metadata": {
        "colab": {
          "base_uri": "https://localhost:8080/"
        },
        "id": "TIdcpNjZwesn",
        "outputId": "ffd25e35-3a75-415b-bbda-8795654af867"
      },
      "execution_count": null,
      "outputs": [
        {
          "output_type": "stream",
          "name": "stdout",
          "text": [
            "8\n"
          ]
        }
      ]
    },
    {
      "cell_type": "code",
      "source": [
        "# contoh arbitrary arguments --> menggunakan tanda asterisks *\n",
        "def fungsi_5(*nama):\n",
        "  print(\"ada: \", len(nama), \"nama\")\n",
        "  for i in range(len(nama)): # range(4) --> [0, 1, 2, 3]\n",
        "    print(\"nama siswa ke:\",i, \"adalah\", nama[i])"
      ],
      "metadata": {
        "id": "V1AG3xF9xFJd"
      },
      "execution_count": null,
      "outputs": []
    },
    {
      "cell_type": "code",
      "source": [
        "fungsi_5(\"ani\", \"budi\", \"charli\", \"dedi\")"
      ],
      "metadata": {
        "colab": {
          "base_uri": "https://localhost:8080/"
        },
        "id": "G19aVC9Uxk_m",
        "outputId": "96907305-f9ef-4c3a-877f-73f46f15fa93"
      },
      "execution_count": null,
      "outputs": [
        {
          "output_type": "stream",
          "name": "stdout",
          "text": [
            "ada:  4 nama\n",
            "nama siswa ke: 0 adalah ani\n",
            "nama siswa ke: 1 adalah budi\n",
            "nama siswa ke: 2 adalah charli\n",
            "nama siswa ke: 3 adalah dedi\n"
          ]
        }
      ]
    },
    {
      "cell_type": "code",
      "source": [
        "def data_peserta(nama, gender, alamat, umur):\n",
        "  print(\"nama: \", nama, \", gender: \", gender)\n",
        "  print(\"alamat: \", alamat, \", umur: \", umur)"
      ],
      "metadata": {
        "id": "dBPMD0c80gHy"
      },
      "execution_count": null,
      "outputs": []
    },
    {
      "cell_type": "code",
      "source": [
        "data_peserta(alamat = \"jakarta\", nama = \"ani\", gender = \"P\", umur = 23)"
      ],
      "metadata": {
        "colab": {
          "base_uri": "https://localhost:8080/"
        },
        "id": "FKDpe0iG0pUa",
        "outputId": "89d3b24d-9083-4328-ae39-a034f4e4e05e"
      },
      "execution_count": null,
      "outputs": [
        {
          "output_type": "stream",
          "name": "stdout",
          "text": [
            "nama:  ani , gender:  P\n",
            "alamat:  jakarta , umur:  23\n"
          ]
        }
      ]
    },
    {
      "cell_type": "code",
      "source": [
        "def fungsi_6(nama = \"default\"):\n",
        "  print(\"nama siswa: \", nama)"
      ],
      "metadata": {
        "id": "4Dv6eEwg38Yc"
      },
      "execution_count": null,
      "outputs": []
    },
    {
      "cell_type": "code",
      "source": [
        "fungsi_6(\"budi\")"
      ],
      "metadata": {
        "colab": {
          "base_uri": "https://localhost:8080/"
        },
        "id": "1nNoa5qr4Fv6",
        "outputId": "994fc72f-f5db-4cde-94de-c99383938422"
      },
      "execution_count": null,
      "outputs": [
        {
          "output_type": "stream",
          "name": "stdout",
          "text": [
            "nama siswa:  budi\n"
          ]
        }
      ]
    },
    {
      "cell_type": "code",
      "source": [
        "fungsi_6()"
      ],
      "metadata": {
        "colab": {
          "base_uri": "https://localhost:8080/"
        },
        "id": "mgjYEMR04N5r",
        "outputId": "c5a61d47-88d5-482f-9e72-2f8941fa5866"
      },
      "execution_count": null,
      "outputs": [
        {
          "output_type": "stream",
          "name": "stdout",
          "text": [
            "nama siswa:  default\n"
          ]
        }
      ]
    },
    {
      "cell_type": "code",
      "source": [
        "def fungsi_7(list_matkul):\n",
        "  print(\"ada\", len(list_matkul), \"item\")\n",
        "  for matkul in list_matkul:\n",
        "    print(matkul)"
      ],
      "metadata": {
        "id": "zmh0wYH05D0s"
      },
      "execution_count": null,
      "outputs": []
    },
    {
      "cell_type": "code",
      "source": [
        "daftar_matkul = ['Python Programming', 'Database', 'Calculus']\n",
        "\n",
        "fungsi_7(daftar_matkul)"
      ],
      "metadata": {
        "colab": {
          "base_uri": "https://localhost:8080/"
        },
        "id": "gLmN0_QJ5T1u",
        "outputId": "c0602f8b-a462-4926-a435-b7030544dfb9"
      },
      "execution_count": null,
      "outputs": [
        {
          "output_type": "stream",
          "name": "stdout",
          "text": [
            "ada 3 item\n",
            "Python Programming\n",
            "Database\n",
            "Calculus\n"
          ]
        }
      ]
    },
    {
      "cell_type": "code",
      "source": [
        "type(daftar_matkul)"
      ],
      "metadata": {
        "colab": {
          "base_uri": "https://localhost:8080/"
        },
        "id": "N9wIuiAb5ll3",
        "outputId": "0226212b-0bc0-44b8-c74d-94478b4c9603"
      },
      "execution_count": null,
      "outputs": [
        {
          "output_type": "execute_result",
          "data": {
            "text/plain": [
              "list"
            ]
          },
          "metadata": {},
          "execution_count": 55
        }
      ]
    },
    {
      "cell_type": "code",
      "source": [
        "list_angka = [1, 2, 3, 4, 5]\n",
        "\n",
        "# # buatlah fungsi yang menjumlahkan semua angka di dalam list\n",
        "def jumlah_semua(list_angka):\n",
        "  print(\"jumlah semua angka di list:\", sum(list_angka)) # fungsi sum() adalah built-in function yang menghitung jumalh semua elemen di dalam list"
      ],
      "metadata": {
        "id": "lSx7E8mk5-Xi"
      },
      "execution_count": null,
      "outputs": []
    },
    {
      "cell_type": "code",
      "source": [
        "jumlah_semua(list_angka)"
      ],
      "metadata": {
        "colab": {
          "base_uri": "https://localhost:8080/"
        },
        "id": "sZt_9Zul6bto",
        "outputId": "91f5ab4d-9ba9-4295-9004-75be8655ed5a"
      },
      "execution_count": null,
      "outputs": [
        {
          "output_type": "stream",
          "name": "stdout",
          "text": [
            "jumlah semua angka di list: 15\n"
          ]
        }
      ]
    },
    {
      "cell_type": "code",
      "source": [
        "def perkalian(a, b):\n",
        "  return a * b"
      ],
      "metadata": {
        "id": "RJim4mUL7YOJ"
      },
      "execution_count": null,
      "outputs": []
    },
    {
      "cell_type": "code",
      "source": [
        "perkalian(10, 5)"
      ],
      "metadata": {
        "colab": {
          "base_uri": "https://localhost:8080/"
        },
        "id": "j_QpM4Sh7fFV",
        "outputId": "acc3b281-ee6b-48c0-b9c6-6a1567ce42ac"
      },
      "execution_count": null,
      "outputs": [
        {
          "output_type": "execute_result",
          "data": {
            "text/plain": [
              "50"
            ]
          },
          "metadata": {},
          "execution_count": 66
        }
      ]
    },
    {
      "cell_type": "code",
      "source": [
        "hasil = perkalian(13, 6)"
      ],
      "metadata": {
        "id": "jCPDBqfX7i_S"
      },
      "execution_count": null,
      "outputs": []
    },
    {
      "cell_type": "code",
      "source": [
        "print(perkalian(100, 100))"
      ],
      "metadata": {
        "colab": {
          "base_uri": "https://localhost:8080/"
        },
        "id": "zIJtT6Aj7r5K",
        "outputId": "3c948adc-09c8-4f3d-e051-23219db66e94"
      },
      "execution_count": null,
      "outputs": [
        {
          "output_type": "stream",
          "name": "stdout",
          "text": [
            "10000\n"
          ]
        }
      ]
    },
    {
      "cell_type": "code",
      "source": [
        "def buat_tuple(a, b):\n",
        "  return (a, b)"
      ],
      "metadata": {
        "id": "MWcNUgDh8KAI"
      },
      "execution_count": null,
      "outputs": []
    },
    {
      "cell_type": "code",
      "source": [
        "buat_tuple(5, 8)[1]"
      ],
      "metadata": {
        "colab": {
          "base_uri": "https://localhost:8080/"
        },
        "id": "PVfKcgDp8X88",
        "outputId": "8d2035ca-2d25-49c5-adc3-0d7af4083f66"
      },
      "execution_count": null,
      "outputs": [
        {
          "output_type": "execute_result",
          "data": {
            "text/plain": [
              "8"
            ]
          },
          "metadata": {},
          "execution_count": 74
        }
      ]
    },
    {
      "cell_type": "code",
      "source": [
        "def tambah_10(a):\n",
        "  return a + 10"
      ],
      "metadata": {
        "id": "GgeBPUaa9F6f"
      },
      "execution_count": null,
      "outputs": []
    },
    {
      "cell_type": "code",
      "source": [
        "hasil = tambah_10(5)\n",
        "hasil"
      ],
      "metadata": {
        "colab": {
          "base_uri": "https://localhost:8080/"
        },
        "id": "wAKkEQrG9QWM",
        "outputId": "e03ae5cc-1f9e-4176-9a3c-41352f85c3db"
      },
      "execution_count": null,
      "outputs": [
        {
          "output_type": "execute_result",
          "data": {
            "text/plain": [
              "15"
            ]
          },
          "metadata": {},
          "execution_count": 76
        }
      ]
    },
    {
      "cell_type": "code",
      "source": [
        "hasil = lambda a: a + 10"
      ],
      "metadata": {
        "id": "WiA3xg1Y9cc4"
      },
      "execution_count": null,
      "outputs": []
    },
    {
      "cell_type": "code",
      "source": [
        "hasil(5)"
      ],
      "metadata": {
        "colab": {
          "base_uri": "https://localhost:8080/"
        },
        "id": "PGQ-xmmV9kZN",
        "outputId": "f5d9a895-765c-44eb-9148-08b10d188b8a"
      },
      "execution_count": null,
      "outputs": [
        {
          "output_type": "execute_result",
          "data": {
            "text/plain": [
              "15"
            ]
          },
          "metadata": {},
          "execution_count": 81
        }
      ]
    },
    {
      "cell_type": "code",
      "source": [
        "cek_status = lambda umur: \"remaja\" \\\n",
        "  if umur > 10 and umur < 20 else \"bukan remaja\""
      ],
      "metadata": {
        "id": "YjYywRoh-N4c"
      },
      "execution_count": null,
      "outputs": []
    },
    {
      "cell_type": "code",
      "source": [
        "def cek_status_1(umur):\n",
        "  status = \"\"\n",
        "  if umur > 10 and umur < 20:\n",
        "    status = \"remaja\"\n",
        "  else:\n",
        "    status = \"bukan remaja\"\n",
        "  return status"
      ],
      "metadata": {
        "id": "hmnrI9pM-fVj"
      },
      "execution_count": null,
      "outputs": []
    },
    {
      "cell_type": "code",
      "source": [
        "cek_status_1(umur)"
      ],
      "metadata": {
        "colab": {
          "base_uri": "https://localhost:8080/",
          "height": 35
        },
        "id": "Y5AuALRa-tHi",
        "outputId": "b09ef081-73f5-4d7d-ec44-5bdf00c9c0ee"
      },
      "execution_count": null,
      "outputs": [
        {
          "output_type": "execute_result",
          "data": {
            "text/plain": [
              "'bukan remaja'"
            ],
            "application/vnd.google.colaboratory.intrinsic+json": {
              "type": "string"
            }
          },
          "metadata": {},
          "execution_count": 86
        }
      ]
    },
    {
      "cell_type": "code",
      "source": [
        "umur = 31\n",
        "cek_status(umur)"
      ],
      "metadata": {
        "colab": {
          "base_uri": "https://localhost:8080/",
          "height": 35
        },
        "id": "HFvHZ63y-ZYe",
        "outputId": "0a4606cb-5bf4-4849-cb73-40464859a498"
      },
      "execution_count": null,
      "outputs": [
        {
          "output_type": "execute_result",
          "data": {
            "text/plain": [
              "'bukan remaja'"
            ],
            "application/vnd.google.colaboratory.intrinsic+json": {
              "type": "string"
            }
          },
          "metadata": {},
          "execution_count": 84
        }
      ]
    },
    {
      "cell_type": "code",
      "source": [
        "import math # mengimpor module bawaan python math untuk kita bisa panggil fungsi2nya dari modul math tsb"
      ],
      "metadata": {
        "id": "8Fy-4xltCPB0"
      },
      "execution_count": null,
      "outputs": []
    },
    {
      "cell_type": "code",
      "source": [
        "print(math.pow(3, 3)) # menghitung hasil 3 pangkat 3"
      ],
      "metadata": {
        "colab": {
          "base_uri": "https://localhost:8080/"
        },
        "id": "kKKdF0b6CKVB",
        "outputId": "6131a8b7-94f1-4397-a586-6c199e61eead"
      },
      "execution_count": null,
      "outputs": [
        {
          "output_type": "stream",
          "name": "stdout",
          "text": [
            "27.0\n"
          ]
        }
      ]
    },
    {
      "cell_type": "code",
      "source": [
        "print(math.pi)"
      ],
      "metadata": {
        "colab": {
          "base_uri": "https://localhost:8080/"
        },
        "id": "L5j24d4ICybt",
        "outputId": "58fab807-5a52-4bf7-a8d7-6450b0f898ac"
      },
      "execution_count": null,
      "outputs": [
        {
          "output_type": "stream",
          "name": "stdout",
          "text": [
            "3.141592653589793\n"
          ]
        }
      ]
    }
  ]
}