{
  "cells": [
    {
      "cell_type": "code",
      "execution_count": null,
      "id": "e0f957a3",
      "metadata": {
        "id": "e0f957a3"
      },
      "outputs": [],
      "source": [
        "x = 5 #assignment operation"
      ]
    },
    {
      "cell_type": "code",
      "execution_count": null,
      "id": "f9f1c215",
      "metadata": {
        "id": "f9f1c215"
      },
      "outputs": [],
      "source": [
        "x = x + 1"
      ]
    },
    {
      "cell_type": "code",
      "execution_count": null,
      "id": "d387cb29",
      "metadata": {
        "id": "d387cb29",
        "outputId": "22c0641a-90b9-4b60-9c0c-5d67e2752c03"
      },
      "outputs": [
        {
          "name": "stdout",
          "output_type": "stream",
          "text": [
            "6\n"
          ]
        }
      ],
      "source": [
        "print(x)"
      ]
    },
    {
      "cell_type": "code",
      "execution_count": null,
      "id": "1a19b1a1",
      "metadata": {
        "id": "1a19b1a1",
        "outputId": "08878ee1-9c00-4456-ed31-4c7018b6fa22"
      },
      "outputs": [
        {
          "data": {
            "text/plain": [
              "int"
            ]
          },
          "execution_count": 2,
          "metadata": {},
          "output_type": "execute_result"
        }
      ],
      "source": [
        "type(x)"
      ]
    },
    {
      "cell_type": "code",
      "execution_count": null,
      "id": "678eeb1f",
      "metadata": {
        "id": "678eeb1f"
      },
      "outputs": [],
      "source": [
        "s = \"belajar\""
      ]
    },
    {
      "cell_type": "code",
      "execution_count": null,
      "id": "e2278400",
      "metadata": {
        "id": "e2278400",
        "outputId": "789e10fd-039d-41ea-95bf-4d4d78820c72"
      },
      "outputs": [
        {
          "data": {
            "text/plain": [
              "str"
            ]
          },
          "execution_count": 4,
          "metadata": {},
          "output_type": "execute_result"
        }
      ],
      "source": [
        "type(s)"
      ]
    },
    {
      "cell_type": "code",
      "execution_count": null,
      "id": "5d2c518a",
      "metadata": {
        "id": "5d2c518a"
      },
      "outputs": [],
      "source": [
        "angka = [10, 20, 30, 40, 50, 60, 70] #tipe list (non-primitive)"
      ]
    },
    {
      "cell_type": "code",
      "execution_count": null,
      "id": "812adb5a",
      "metadata": {
        "id": "812adb5a",
        "outputId": "ec96cb00-443c-4179-9ac3-1f9fb79379c9"
      },
      "outputs": [
        {
          "name": "stdout",
          "output_type": "stream",
          "text": [
            "[10, 20, 30, 40, 50]\n"
          ]
        }
      ],
      "source": [
        "print(angka[0:-2])"
      ]
    },
    {
      "cell_type": "code",
      "execution_count": null,
      "id": "c959aefc",
      "metadata": {
        "id": "c959aefc",
        "outputId": "2d87579d-f82d-4ad1-e11f-e18c61e9cd13"
      },
      "outputs": [
        {
          "name": "stdout",
          "output_type": "stream",
          "text": [
            "[20, 30, 40, 50, 60, 70]\n"
          ]
        }
      ],
      "source": [
        "print(angka[1:7]) #slicing tanpa step"
      ]
    },
    {
      "cell_type": "code",
      "execution_count": null,
      "id": "5b1764dc",
      "metadata": {
        "id": "5b1764dc",
        "outputId": "be659b7c-44af-45ea-d2b2-12dd5ab1df0d"
      },
      "outputs": [
        {
          "name": "stdout",
          "output_type": "stream",
          "text": [
            "[10, 30, 50, 70]\n"
          ]
        }
      ],
      "source": [
        "print(angka[0:7:2]) #slicing dengan step 2"
      ]
    },
    {
      "cell_type": "code",
      "execution_count": null,
      "id": "28d70cc8",
      "metadata": {
        "id": "28d70cc8",
        "outputId": "75c7c31d-eb72-4ff6-be08-8936ba4e1866"
      },
      "outputs": [
        {
          "name": "stdout",
          "output_type": "stream",
          "text": [
            "[30, 40, 50]\n"
          ]
        }
      ],
      "source": [
        "print(angka[-3:])"
      ]
    },
    {
      "cell_type": "code",
      "execution_count": null,
      "id": "03d97e22",
      "metadata": {
        "id": "03d97e22",
        "outputId": "9117bf5c-0afb-4aa4-c1d6-fa5da16646f3"
      },
      "outputs": [
        {
          "name": "stdout",
          "output_type": "stream",
          "text": [
            "[30, 40, 50]\n"
          ]
        }
      ],
      "source": [
        "print(angka[2:]) # ambil elemen mulai dari indeks 2 sampai elemen terakhir list angka"
      ]
    },
    {
      "cell_type": "code",
      "execution_count": null,
      "id": "736404a2",
      "metadata": {
        "id": "736404a2",
        "outputId": "c117b9b6-427d-4eef-8d42-6a91cde47867"
      },
      "outputs": [
        {
          "name": "stdout",
          "output_type": "stream",
          "text": [
            "[10, 20, 30, 40]\n"
          ]
        }
      ],
      "source": [
        "print(angka[:4]) # ambil elemen dari list angka mulai dari indeks 0 sampai indeks 3"
      ]
    },
    {
      "cell_type": "code",
      "execution_count": null,
      "id": "58f2ed1d",
      "metadata": {
        "id": "58f2ed1d",
        "outputId": "3a8a23e5-21e6-425c-b4c7-8a377706311b"
      },
      "outputs": [
        {
          "name": "stdout",
          "output_type": "stream",
          "text": [
            "30\n"
          ]
        }
      ],
      "source": [
        "# menampilkan 30 dari list angka, bisa gunakan indeksnya --> angka[2]\n",
        "print(angka[2])"
      ]
    },
    {
      "cell_type": "code",
      "execution_count": null,
      "id": "57233bc3",
      "metadata": {
        "id": "57233bc3",
        "outputId": "e4bc421c-f6d7-4ccb-ff93-e13db19b5eb2"
      },
      "outputs": [
        {
          "data": {
            "text/plain": [
              "list"
            ]
          },
          "execution_count": 8,
          "metadata": {},
          "output_type": "execute_result"
        }
      ],
      "source": [
        "type(angka)"
      ]
    },
    {
      "cell_type": "code",
      "execution_count": null,
      "id": "aa995064",
      "metadata": {
        "id": "aa995064"
      },
      "outputs": [],
      "source": [
        "kata = 'belajar' # --> ['b', 'e', 'l', 'a', 'j', 'a', 'r']"
      ]
    },
    {
      "cell_type": "code",
      "execution_count": null,
      "id": "dfa7fba0",
      "metadata": {
        "id": "dfa7fba0",
        "outputId": "5128d359-e0ef-411b-d4b0-d381bec3a4ae"
      },
      "outputs": [
        {
          "name": "stdout",
          "output_type": "stream",
          "text": [
            "ela\n"
          ]
        }
      ],
      "source": [
        "print(kata[1:4])"
      ]
    },
    {
      "cell_type": "code",
      "execution_count": null,
      "id": "b2a86bf9",
      "metadata": {
        "id": "b2a86bf9",
        "outputId": "986c391c-36e9-44c9-fd73-a61500606c97"
      },
      "outputs": [
        {
          "name": "stdout",
          "output_type": "stream",
          "text": [
            "1\n",
            "2\n",
            "3\n",
            "4\n",
            "5\n",
            "6\n",
            "7\n",
            "8\n",
            "9\n",
            "10\n"
          ]
        }
      ],
      "source": [
        "print(1)\n",
        "print(2)\n",
        "print(3)\n",
        "print(4)\n",
        "print(5)\n",
        "print(6)\n",
        "print(7)\n",
        "print(8)\n",
        "print(9)\n",
        "print(10)"
      ]
    },
    {
      "cell_type": "code",
      "execution_count": null,
      "id": "f865dcc0",
      "metadata": {
        "id": "f865dcc0",
        "outputId": "3077d06e-d162-4562-ed33-c95c08cd9779"
      },
      "outputs": [
        {
          "name": "stdout",
          "output_type": "stream",
          "text": [
            "1\n",
            "3\n",
            "5\n",
            "7\n",
            "9\n"
          ]
        }
      ],
      "source": [
        "bil = 1\n",
        "while bil <= 10:\n",
        "    print(bil)\n",
        "    bil = bil + 2 #update counter (increment), memastikan condition akan menjadi False"
      ]
    },
    {
      "cell_type": "code",
      "execution_count": null,
      "id": "cc31ad02",
      "metadata": {
        "id": "cc31ad02",
        "outputId": "cb60cdff-864c-442f-d000-8d1602edf0b8"
      },
      "outputs": [
        {
          "name": "stdout",
          "output_type": "stream",
          "text": [
            "1\n",
            "3\n",
            "6\n",
            "10\n",
            "15\n",
            "21\n",
            "28\n",
            "36\n",
            "45\n",
            "55\n"
          ]
        }
      ],
      "source": [
        "bil = 1\n",
        "jml = 0\n",
        "while bil<=10:\n",
        "    jml = jml + bil\n",
        "    bil = bil + 1\n",
        "    print(jml)"
      ]
    },
    {
      "cell_type": "code",
      "execution_count": null,
      "id": "56492e24",
      "metadata": {
        "id": "56492e24"
      },
      "outputs": [],
      "source": [
        "# ini tidak bisa dijalankan, hanya pseudocode\n",
        "while boolean_expression:\n",
        "    statement_1\n",
        "    statement_2\n",
        "    ...\n",
        "    statement_n\n",
        "statement_n+1"
      ]
    },
    {
      "cell_type": "code",
      "execution_count": null,
      "id": "b8ab4f53",
      "metadata": {
        "id": "b8ab4f53"
      },
      "outputs": [],
      "source": [
        "list_kata = ['saya', 'belajar', 'python', 'asyik']"
      ]
    },
    {
      "cell_type": "code",
      "execution_count": null,
      "id": "9c257ab5",
      "metadata": {
        "id": "9c257ab5",
        "outputId": "248cc61d-6b9f-4439-be4a-1ca2cc01cb45"
      },
      "outputs": [
        {
          "name": "stdout",
          "output_type": "stream",
          "text": [
            "saya\n",
            "belajar\n",
            "python\n",
            "asyik\n"
          ]
        }
      ],
      "source": [
        "for kata in list_kata:\n",
        "    print(kata)"
      ]
    },
    {
      "cell_type": "code",
      "execution_count": null,
      "id": "ea2f2638",
      "metadata": {
        "id": "ea2f2638",
        "outputId": "efe043a3-803c-4487-de86-1df1d1d113d1"
      },
      "outputs": [
        {
          "data": {
            "text/plain": [
              "4"
            ]
          },
          "execution_count": 59,
          "metadata": {},
          "output_type": "execute_result"
        }
      ],
      "source": [
        "len(list_kata)"
      ]
    },
    {
      "cell_type": "code",
      "execution_count": null,
      "id": "881cbd47",
      "metadata": {
        "id": "881cbd47",
        "outputId": "32b5b0a5-f523-49e1-d382-7f21f103c308"
      },
      "outputs": [
        {
          "name": "stdout",
          "output_type": "stream",
          "text": [
            "saya\n",
            "belajar\n",
            "python\n",
            "asyik\n"
          ]
        }
      ],
      "source": [
        "i = 0\n",
        "while i < len(list_kata):\n",
        "    print(list_kata[i])\n",
        "    i = i + 1"
      ]
    },
    {
      "cell_type": "code",
      "execution_count": null,
      "id": "3c6412a7",
      "metadata": {
        "id": "3c6412a7",
        "outputId": "0ac18c09-f027-4140-ac68-4b32d3993295"
      },
      "outputs": [
        {
          "name": "stdout",
          "output_type": "stream",
          "text": [
            "b\n",
            "e\n",
            "l\n",
            "a\n",
            "j\n",
            "a\n",
            "r\n"
          ]
        }
      ],
      "source": [
        "kata = 'belajar'\n",
        "for huruf in kata:\n",
        "    print(huruf)"
      ]
    },
    {
      "cell_type": "code",
      "execution_count": null,
      "id": "2ee273d8",
      "metadata": {
        "id": "2ee273d8",
        "outputId": "66e52966-98a7-4b73-83f1-05f9b88514d3"
      },
      "outputs": [
        {
          "name": "stdout",
          "output_type": "stream",
          "text": [
            "2\n",
            "3\n",
            "4\n",
            "5\n"
          ]
        }
      ],
      "source": [
        "for i in range(2,6):\n",
        "    print(i)"
      ]
    },
    {
      "cell_type": "code",
      "execution_count": null,
      "id": "717b1bb8",
      "metadata": {
        "id": "717b1bb8"
      },
      "outputs": [],
      "source": [
        "list_orang = [\"1. ani\", \"2. budi\", \"3. charli\"]"
      ]
    },
    {
      "cell_type": "code",
      "execution_count": null,
      "id": "3c41cd2f",
      "metadata": {
        "id": "3c41cd2f"
      },
      "outputs": [],
      "source": [
        "l = 10"
      ]
    },
    {
      "cell_type": "code",
      "execution_count": null,
      "id": "4b7dbb24",
      "metadata": {
        "id": "4b7dbb24",
        "outputId": "85830831-ac63-4924-d88d-0b97066a5ce2"
      },
      "outputs": [
        {
          "name": "stdout",
          "output_type": "stream",
          "text": [
            "1. ani\n",
            "2. budi\n",
            "3. charli\n"
          ]
        }
      ],
      "source": [
        "for orang in list_orang:\n",
        "    print(orang)"
      ]
    },
    {
      "cell_type": "code",
      "execution_count": null,
      "id": "707e39e4",
      "metadata": {
        "id": "707e39e4",
        "outputId": "5667dc39-d712-4b11-c899-90a87e7cfb08"
      },
      "outputs": [
        {
          "name": "stdout",
          "output_type": "stream",
          "text": [
            "red apple\n",
            "red banana\n",
            "red cherry\n",
            "big apple\n",
            "big banana\n",
            "big cherry\n",
            "tasty apple\n",
            "tasty banana\n",
            "tasty cherry\n"
          ]
        }
      ],
      "source": [
        "adj = ['red', 'big', 'tasty']\n",
        "fruits = ['apple', 'banana', 'cherry']\n",
        "\n",
        "for kata_sifat in adj:\n",
        "    for buah in fruits:\n",
        "        print(kata_sifat, buah)"
      ]
    },
    {
      "cell_type": "code",
      "execution_count": null,
      "id": "be2ffaf0",
      "metadata": {
        "id": "be2ffaf0",
        "outputId": "f072736b-2744-4f0b-d37f-957fb3138d35"
      },
      "outputs": [
        {
          "name": "stdout",
          "output_type": "stream",
          "text": [
            "1\n",
            "2\n",
            "3\n",
            "4\n"
          ]
        }
      ],
      "source": [
        "# contoh break. lakukan iterasi nilai x mulai dari 1 sampai 10. jika nilai x = 5, hentikan iterasi\n",
        "for x in range(1, 11):\n",
        "    if x == 5:\n",
        "        break\n",
        "    else:\n",
        "        print(x)"
      ]
    },
    {
      "cell_type": "code",
      "execution_count": null,
      "id": "2bb120a9",
      "metadata": {
        "id": "2bb120a9",
        "outputId": "aaf2800a-2374-491d-bd1a-ac14e139800d"
      },
      "outputs": [
        {
          "name": "stdout",
          "output_type": "stream",
          "text": [
            "1\n",
            "2\n",
            "3\n",
            "4\n",
            "6\n",
            "7\n",
            "8\n",
            "9\n",
            "10\n"
          ]
        }
      ],
      "source": [
        "for x in range(1, 11):\n",
        "    if x == 5:\n",
        "        continue\n",
        "    else:\n",
        "        print(x)"
      ]
    },
    {
      "cell_type": "code",
      "execution_count": null,
      "id": "b0f0f37b",
      "metadata": {
        "id": "b0f0f37b"
      },
      "outputs": [],
      "source": [
        "a = 5"
      ]
    },
    {
      "cell_type": "code",
      "execution_count": null,
      "id": "598018ad",
      "metadata": {
        "id": "598018ad"
      },
      "outputs": [],
      "source": [
        "a = 10"
      ]
    },
    {
      "cell_type": "code",
      "execution_count": null,
      "id": "de2434e0",
      "metadata": {
        "id": "de2434e0",
        "outputId": "2ca48158-e4c4-4c48-94ac-431d4a4c6383"
      },
      "outputs": [
        {
          "name": "stdout",
          "output_type": "stream",
          "text": [
            "10\n"
          ]
        }
      ],
      "source": [
        "print(a)"
      ]
    }
  ],
  "metadata": {
    "kernelspec": {
      "display_name": "Python 3 (ipykernel)",
      "language": "python",
      "name": "python3"
    },
    "language_info": {
      "codemirror_mode": {
        "name": "ipython",
        "version": 3
      },
      "file_extension": ".py",
      "mimetype": "text/x-python",
      "name": "python",
      "nbconvert_exporter": "python",
      "pygments_lexer": "ipython3",
      "version": "3.10.9"
    },
    "colab": {
      "provenance": []
    }
  },
  "nbformat": 4,
  "nbformat_minor": 5
}