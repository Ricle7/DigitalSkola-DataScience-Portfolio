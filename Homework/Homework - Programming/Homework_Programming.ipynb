{
  "nbformat": 4,
  "nbformat_minor": 0,
  "metadata": {
    "colab": {
      "provenance": [],
      "toc_visible": true
    },
    "kernelspec": {
      "name": "python3",
      "display_name": "Python 3"
    },
    "language_info": {
      "name": "python"
    }
  },
  "cells": [
    {
      "cell_type": "markdown",
      "source": [
        "# **SOAL**"
      ],
      "metadata": {
        "id": "w0F_XZLKJzv4"
      }
    },
    {
      "cell_type": "markdown",
      "source": [
        "1. Buatlah sebuah fungsi untuk mendapatkan nilai terbesar dari input 3 (tiga) buah bilangan\n",
        "   Catatan: tidak boleh menggunakan fungsi max() dari Python.\n",
        "\n",
        "\n",
        "2. Buatlah sebuah fungsi untuk mendapatkan nilai rata-rata dari input sejumlah n bilangan dalam sebuah list.\n",
        "\n",
        "  Catatan: tidak boleh menggunakan fungsi `sum()` dari Python.\n",
        "  \n",
        "  Contoh input: [10, 20, 30, 40, 50]\n",
        "\n",
        "  Output yang diharapkan: 30\n",
        "\n",
        "\n",
        "3. Buatlah sebuah fungsi yang menghitung banyaknya bilangan genap dan bilangan ganjil dari sejumlah elemen di dalam sebuah list. Output berupa sebuah tuple dengan dua elemen: elemen pertama adalah banyanya bilangan genap, elemen kedua adalah banyaknya bilangan ganjil.\n",
        "  \n",
        "  Contoh input: [1, 2, 3, 4, 5, 6, 7]\n",
        "  \n",
        "  Output yang diharapkan: (3, 4)\n",
        "\n",
        "\n",
        "4. Diberikan sebuah string yang merupakan campuran dari huruf kecil dan huruf kapital. Buatlah sebuah fungsi yang mengubah susunan huruf dalam string tersebut supaya huruf kecil muncul terlebih dahulu baru diikuti huruf kapital.\n",
        "  \n",
        "  Contoh input; “DigitaLSkolA”\n",
        "  \n",
        "  Contoh output: “igitakolDLSA\n",
        "\n",
        "\n",
        "5. Buatlah sebuah fungsi dengan nama show_employee() berdasarkan ketentuan berikut:\n",
        "  * Fungsi harus menerima nama dan gaji employee dan menampilkan keduanya di layar.\n",
        "  * Jika input gajinya kosong saat pemanggilan fungsi, isikan nilai default 2000000 untuk gaji."
      ],
      "metadata": {
        "id": "wBczPwy-J7g4"
      }
    },
    {
      "cell_type": "markdown",
      "source": [
        "# **NOMOR 1**"
      ],
      "metadata": {
        "id": "GXxI4dYqYUbv"
      }
    },
    {
      "cell_type": "markdown",
      "source": [
        "**Cara 1**"
      ],
      "metadata": {
        "id": "OmRUOtZr5WZ2"
      }
    },
    {
      "cell_type": "code",
      "execution_count": null,
      "metadata": {
        "colab": {
          "base_uri": "https://localhost:8080/"
        },
        "id": "y4mwrKsY4n-B",
        "outputId": "935f622e-40c8-4f23-c4ce-9ee9b9c7cf5b"
      },
      "outputs": [
        {
          "output_type": "stream",
          "name": "stdout",
          "text": [
            "Nilai terbesar adalah: 15.5\n"
          ]
        }
      ],
      "source": [
        "# Menggunakan if-elif-else\n",
        "def nilai_terbesar(a, b, c): #  Fungsi untuk menerima tiga argumen, yakni a, b, dan c, yang mewakili tiga bilangan yang nantinya akan dibandingkan.\n",
        "    if a >= b and a >= c:\n",
        "        return a  # Memeriksa apakah nilai a lebih besar atau sama dengan b dan c.\n",
        "                  # Jika benar, a adalah nilai terbesar, dan fungsi akan mengembalikan a.\n",
        "    elif b >= a and b >= c:\n",
        "        return b  # Jika if sebelumnya tidak benar, memeriksa apakah nilai b lebih besar atau sama dengan a dan c.\n",
        "                  # Jika benar, b adalah nilai terbesar, dan fungsi akan mengembalikan b.\n",
        "    else:\n",
        "        return c  # Jika kedua pernyataan sebelumnya tidak benar, maka nilai c adalah yang terbesar,\n",
        "                  # dan fungsi akan mengembalikan c.\n",
        "\n",
        "# Inisialisasi nilai:\n",
        "angka1 = 15\n",
        "angka2 = 15.1\n",
        "angka3 = 15.5\n",
        "\n",
        "# Pemanggilan fungsi nilai_terbesar dan hasilnya disimpan dalam variabel angka_terbesar\n",
        "angka_terbesar = nilai_terbesar(angka1, angka2, angka3)\n",
        "\n",
        "# Cetak hasil fungsi dengan menggunakan konkatenasi string\n",
        "print(\"Nilai terbesar adalah: \" + str(angka_terbesar))"
      ]
    },
    {
      "cell_type": "markdown",
      "source": [
        "**Cara 2**"
      ],
      "metadata": {
        "id": "-2eFcrxP5aKu"
      }
    },
    {
      "cell_type": "code",
      "source": [
        "# Menggunakan ekspresi ternary (cara untuk menggantikan if-else yang sederhana dalam satu baris kode)\n",
        "def nilai_terbesar_2(a, b, c):\n",
        "    return a if (a >= b and a >= c) else (b if (b >= a and b >= c) else c)   # Penggunaan ekspresi ternary untuk mengembalikan nilai terbesar\n",
        "\n",
        "# Inisialisasi nilai:\n",
        "angka1 = 1\n",
        "angka2 = 3\n",
        "angka3 = 2\n",
        "\n",
        "# Panggil fungsi nilai_terbesar_2\n",
        "angka_terbesar_2 = nilai_terbesar_2(angka1, angka2, angka3)\n",
        "\n",
        "# Cetak dengan f-string: Lebih fleksibel, ekspresif, dan mudah dibaca dengan cara menyisipkan nilai variabel ke dalam string dengan kurung kurawal\n",
        "print(f\"Nilai terbesar adalah: {angka_terbesar_2}\")\n",
        "# print(\"Nilai terbesar adalah: \" + str(angka_terbesar)) --> opsi seperti cara 1,  harus melakukan konkatenasi string secara manual"
      ],
      "metadata": {
        "colab": {
          "base_uri": "https://localhost:8080/"
        },
        "id": "VROMA4Vu6_Dj",
        "outputId": "03216bb2-a941-4827-c0c2-b266737cf180"
      },
      "execution_count": null,
      "outputs": [
        {
          "output_type": "stream",
          "name": "stdout",
          "text": [
            "Nilai terbesar adalah: 3\n"
          ]
        }
      ]
    },
    {
      "cell_type": "markdown",
      "source": [
        "# **NOMOR 2**"
      ],
      "metadata": {
        "id": "8SxoYf6iYP3-"
      }
    },
    {
      "cell_type": "markdown",
      "source": [
        "**Cara 1**"
      ],
      "metadata": {
        "id": "rujRGTBl5iCF"
      }
    },
    {
      "cell_type": "code",
      "source": [
        "# Menggunakan Loop For\n",
        "def nilai_rata_rata(data): # Fungsi yang menerima satu parameter yaitu data(sebuah list)\n",
        "    jumlah = 0 # Untuk menghitung total nilai\n",
        "    count = 0 # Untuk menghitung jumlah elemen dalam data\n",
        "\n",
        "    # Loop melalui setiap angka dalam data\n",
        "    for angka in data:\n",
        "        jumlah += angka # Menambahkan nilai angka ke dalam total jumlah\n",
        "        count += 1 # Menambahkan 1 ke dalam count setiap kali loop\n",
        "    if count == 0: # Memeriksa apakah data kosong (count == 0) untuk menghindari pembagian oleh nol\n",
        "        return 0\n",
        "    else:\n",
        "        return jumlah / count # Mengembalikan rata-rata, yaitu total nilai dibagi jumlah elemen\n",
        "\n",
        "data = [40, 20, 0, 50, 40] # Mendefinisikan list data\n",
        "rata_rata = nilai_rata_rata(data) # Memanggil fungsi nilai_rata_rata dengan data sebagai argumen\n",
        "print(f\"Nilai rata-rata adalah: {rata_rata}\") # Mencetak hasil dengan menggunakan f-string"
      ],
      "metadata": {
        "colab": {
          "base_uri": "https://localhost:8080/"
        },
        "id": "CvWtldhc7kcw",
        "outputId": "c7b4da58-6b50-477e-a73f-e23516244dce"
      },
      "execution_count": null,
      "outputs": [
        {
          "output_type": "stream",
          "name": "stdout",
          "text": [
            "Nilai rata-rata adalah: 30.0\n"
          ]
        }
      ]
    },
    {
      "cell_type": "markdown",
      "source": [
        "**Cara 2**"
      ],
      "metadata": {
        "id": "X7-wS3j55kYY"
      }
    },
    {
      "cell_type": "code",
      "source": [
        "# Menggunakan Loop while\n",
        "def nilai_rata_rata_2(data_2):\n",
        "    jumlah = 0  # Inisialisasi variabel jumlah untuk menghitung total nilai\n",
        "    count = 0   # Inisialisasi variabel count untuk menghitung jumlah elemen dalam data\n",
        "    i = 0       # Inisialisasi variabel i sebagai indeks elemen dalam data\n",
        "\n",
        "    # Melakukan perulangan while selama indeks i kurang dari panjang data_2\n",
        "    while i < len(data_2):\n",
        "        jumlah += data_2[i]  # Menambahkan nilai elemen data_2 ke dalam total jumlah\n",
        "        count += 1           # Menambahkan 1 ke dalam count setiap kali loop\n",
        "        i += 1               # Meningkatkan indeks i\n",
        "\n",
        "    # Memeriksa apakah data_2 kosong (count == 0) untuk menghindari pembagian oleh nol\n",
        "    if count == 0:\n",
        "        return 0  # Jika data_2 kosong, mengembalikan 0 sebagai rata-rata\n",
        "    else:\n",
        "        return jumlah / count  # Mengembalikan rata-rata, yaitu total nilai dibagi jumlah elemen\n",
        "\n",
        "data_2 = [10, 20, 30, 40] # Mendefinisikan list data_2\n",
        "rata_rata_2 = nilai_rata_rata_2(data_2) # Memanggil fungsi nilai_rata_rata_2 dengan data_2 sebagai argumen\n",
        "print(f\"Nilai rata-rata adalah: {rata_rata_2}\") # Mencetak hasil dengan menggunakan f-string"
      ],
      "metadata": {
        "colab": {
          "base_uri": "https://localhost:8080/"
        },
        "id": "HqNgWuUros0N",
        "outputId": "aabbfde6-e4f5-4501-d6bb-7808e282e5fc"
      },
      "execution_count": null,
      "outputs": [
        {
          "output_type": "stream",
          "name": "stdout",
          "text": [
            "Nilai rata-rata adalah: 25.0\n"
          ]
        }
      ]
    },
    {
      "cell_type": "markdown",
      "source": [
        "# **NOMOR 3**"
      ],
      "metadata": {
        "id": "43upC-AWYJI8"
      }
    },
    {
      "cell_type": "markdown",
      "source": [
        "**Cara 1**"
      ],
      "metadata": {
        "id": "VGjKt-X566IB"
      }
    },
    {
      "cell_type": "code",
      "source": [
        "# Menggunakan Loop for\n",
        "def genap_ganjil(data):\n",
        "    count_genap = 0   # Inisialisasi variabel count_genap untuk menghitung jumlah bilangan genap\n",
        "    count_ganjil = 0  # Inisialisasi variabel count_ganjil untuk menghitung jumlah bilangan ganjil\n",
        "\n",
        "    # Loop melalui setiap angka dalam data\n",
        "    for angka in data:\n",
        "        if angka % 2 == 0:   # Memeriksa apakah angka adalah bilangan genap\n",
        "            count_genap += 1 # Jika ya, menambahkan 1 ke count_genap\n",
        "        else:\n",
        "            count_ganjil += 1 # Jika tidak, menambahkan 1 ke count_ganjil\n",
        "    return (count_genap, count_ganjil) # Mengembalikan tuple yang berisi jumlah bilangan genap dan jumlah bilangan ganjil\n",
        "\n",
        "data = [11, 22, 32, 42, 51, 6, 77, 9]  # Mendefinisikan list data\n",
        "hasil = genap_ganjil(data)  # Memanggil fungsi hitung_genap_dan_ganjil dengan data sebagai argumen\n",
        "print(f\"Total bilangan genap: {hasil[0]}\") # Digunakan untuk mencetak jumlah bilangan genap (elemen pertama dalam tuple)\n",
        "print(f\"Total bilangan ganjil: {hasil[1]}\") # Digunakan untuk mencetak jumlah bilangan ganjil (elemen kedua dalam tuple)"
      ],
      "metadata": {
        "colab": {
          "base_uri": "https://localhost:8080/"
        },
        "id": "7BiRHW7L8tZ8",
        "outputId": "80b45dc5-1170-4aa3-e772-62286dd52792"
      },
      "execution_count": null,
      "outputs": [
        {
          "output_type": "stream",
          "name": "stdout",
          "text": [
            "Total bilangan genap: 4\n",
            "Total bilangan ganjil: 4\n"
          ]
        }
      ]
    },
    {
      "cell_type": "markdown",
      "source": [
        "**Cara 2**"
      ],
      "metadata": {
        "id": "Cm7mk5Ex68dp"
      }
    },
    {
      "cell_type": "code",
      "source": [
        "# Menggunakan List Comprehension (membuat list baru dengan sintaksis yang lebih ringkas)\n",
        "def genap_ganjil(data):\n",
        "    genap = [angka for angka in data if angka % 2 == 0] # Membuat list 'genap' yang berisi semua angka genap dari data\n",
        "    ganjil = [angka for angka in data if angka % 2 != 0] # Membuat list 'ganjil' yang berisi semua angka ganjil dari data\n",
        "    return (len(genap), len(ganjil)) # Mengembalikan tuple yang berisi panjang list 'genap' dan panjang list 'ganjil'\n",
        "\n",
        "data = [12, 21, 31, 41, 51, 6, 76]  # Mendefinisikan list data\n",
        "hasil = genap_ganjil(data)  # Memanggil fungsi hitung_genap_dan_ganjil dengan data sebagai argumen\n",
        "print(f\"Total bilangan genap: {hasil[0]}\") # Digunakan untuk mencetak jumlah bilangan genap (elemen pertama dalam tuple)\n",
        "print(f\"Total bilangan ganjil: {hasil[1]}\") # Digunakan untuk mencetak jumlah bilangan ganjil (elemen kedua dalam tuple)"
      ],
      "metadata": {
        "colab": {
          "base_uri": "https://localhost:8080/"
        },
        "id": "vAVAGUEwrtp4",
        "outputId": "02094ac7-776d-4bc3-eaee-74dfadd2a387"
      },
      "execution_count": null,
      "outputs": [
        {
          "output_type": "stream",
          "name": "stdout",
          "text": [
            "Total bilangan genap: 3\n",
            "Total bilangan ganjil: 4\n"
          ]
        }
      ]
    },
    {
      "cell_type": "markdown",
      "source": [
        "# **NOMOR 4**"
      ],
      "metadata": {
        "id": "8NklTfCtYDK1"
      }
    },
    {
      "cell_type": "markdown",
      "source": [
        "**Cara 1**"
      ],
      "metadata": {
        "id": "zgDP8Y1D6_a5"
      }
    },
    {
      "cell_type": "code",
      "source": [
        "# Menggunakan Loop for\n",
        "def susun_huruf(string):\n",
        "    # Inisialisasi dua variabel, huruf_kecil untuk menyimpan huruf kecil dan huruf_kapital untuk menyimpan huruf kapital\n",
        "    huruf_kecil = \"\"\n",
        "    huruf_kapital = \"\"\n",
        "\n",
        "    # Melakukan iterasi melalui setiap karakter (huruf) dalam string input\n",
        "    for huruf in string:\n",
        "        if huruf.islower():  # Memeriksa apakah huruf adalah huruf kecil menggunakan metode islower()\n",
        "            huruf_kecil += huruf  # Jika huruf kecil, tambahkan ke variabel huruf_kecil\n",
        "        else:\n",
        "            huruf_kapital += huruf  # Jika huruf kapital, tambahkan ke variabel huruf_kapital\n",
        "    return huruf_kecil + huruf_kapital # Menggabungkan huruf_kecil dan huruf_kapital untuk membentuk string hasil\n",
        "\n",
        "# Contoh penggunaan:\n",
        "string1 = \"DigitaLSkolA\"\n",
        "hasil1 = susun_huruf(string1)  # Memanggil fungsi susun_huruf dengan string1 sebagai argumen\n",
        "string2 = \"RifqiMufidDiN\"\n",
        "hasil2 = susun_huruf(string2)  # Memanggil fungsi susun_huruf dengan string2 sebagai argumen\n",
        "\n",
        "# Mencetak hasil dari kedua contoh\n",
        "print(\"Contoh 1:\", hasil1)\n",
        "print(\"Contoh 2:\", hasil2)"
      ],
      "metadata": {
        "id": "1WDKDKSR94vC",
        "colab": {
          "base_uri": "https://localhost:8080/"
        },
        "outputId": "ec0c9ace-6701-4c50-995a-65077fba627e"
      },
      "execution_count": null,
      "outputs": [
        {
          "output_type": "stream",
          "name": "stdout",
          "text": [
            "Contoh 1: igitakolDLSA\n",
            "Contoh 2: ifqiufidiRMDN\n"
          ]
        }
      ]
    },
    {
      "cell_type": "markdown",
      "source": [
        "**Cara 2**"
      ],
      "metadata": {
        "id": "qMW7dNNZ7BjR"
      }
    },
    {
      "cell_type": "code",
      "source": [
        "# Menggunakan List Comprehension\n",
        "def susun_huruf(string):\n",
        "    huruf_kecil = [huruf for huruf in string if huruf.islower()] # Membuat list huruf_kecil yang berisi semua huruf kecil dalam string\n",
        "    huruf_kapital = [huruf for huruf in string if not huruf.islower()] # Membuat list huruf_kapital yang berisi semua huruf kapital dalam string\n",
        "    return \"\".join(huruf_kecil + huruf_kapital) # Menggabungkan list huruf_kecil dan huruf_kapital menjadi satu string hasil\n",
        "\n",
        "# Contoh penggunaan:\n",
        "string1 = \"DigitaLSkolA\"\n",
        "hasil1 = susun_huruf(string1)  # Memanggil fungsi susun_huruf dengan string1 sebagai argumen\n",
        "string2 = \"RifqiMufidDiN\"\n",
        "hasil2 = susun_huruf(string2)  # Memanggil fungsi susun_huruf dengan string2 sebagai argumen\n",
        "\n",
        "# Mencetak hasil dari kedua contoh\n",
        "print(\"Hasil untuk string1:\", hasil1)\n",
        "print(\"Hasil untuk string2:\", hasil2)\n"
      ],
      "metadata": {
        "colab": {
          "base_uri": "https://localhost:8080/"
        },
        "id": "R9eH7wcJ-rFV",
        "outputId": "d991ed61-d961-44d5-f7c6-4e591f74419c"
      },
      "execution_count": null,
      "outputs": [
        {
          "output_type": "stream",
          "name": "stdout",
          "text": [
            "Hasil untuk string1: igitakolDLSA\n",
            "Hasil untuk string2: ifqiufidiRMDN\n"
          ]
        }
      ]
    },
    {
      "cell_type": "markdown",
      "source": [
        "# **NOMOR 5**"
      ],
      "metadata": {
        "id": "ofAukoBmXXop"
      }
    },
    {
      "cell_type": "code",
      "source": [
        "# Implementasi Default Parameter Value\n",
        "def show_employee(nama, gaji=2000000):\n",
        "    print(f\"Nama: {nama}\") # Menampilkan nama employee yang diberikan sebagai argumen\n",
        "    print(f\"Gaji: {gaji}\", \"\\n\") # Menampilkan gaji employee, jika tidak ada gaji yang diberikan, maka akan menggunakan nilai default 2000000\n",
        "\n",
        "# Implementasi\n",
        "show_employee(\"Rifqi\", 3000000)\n",
        "show_employee(\"Mufiddin\")  # Menampilkan nama \"Mufiddin\" dan gaji 2000000 (default)"
      ],
      "metadata": {
        "colab": {
          "base_uri": "https://localhost:8080/"
        },
        "id": "OjZ2XEg--wh3",
        "outputId": "2ec585d5-261f-4fa1-a6ad-f3871cf84829"
      },
      "execution_count": null,
      "outputs": [
        {
          "output_type": "stream",
          "name": "stdout",
          "text": [
            "Nama: Rifqi\n",
            "Gaji: 3000000 \n",
            "\n",
            "Nama: Mufiddin\n",
            "Gaji: 2000000 \n",
            "\n"
          ]
        }
      ]
    }
  ]
}